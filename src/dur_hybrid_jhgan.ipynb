{
 "cells": [
  {
   "cell_type": "code",
   "execution_count": 1,
   "metadata": {},
   "outputs": [],
   "source": [
    "from langchain_openai import ChatOpenAI\n",
    "import os\n",
    "import openai\n",
    "import getpass\n",
    "import tiktoken\n",
    "from langchain.chains import RetrievalQA\n",
    "from langchain.chat_models import ChatOpenAI\n",
    "from langchain.text_splitter import RecursiveCharacterTextSplitter\n",
    "from langchain.vectorstores import Chroma\n",
    "from langchain.embeddings import HuggingFaceEmbeddings\n",
    "#==========================================================================================#\n",
    "from langchain_core.prompts import ChatPromptTemplate, MessagesPlaceholder\n",
    "from langchain_core.runnables import RunnablePassthrough\n",
    "from langchain_core.output_parsers import StrOutputParser\n",
    "from langchain.chains import create_history_aware_retriever, create_retrieval_chain\n",
    "from langchain.chains.combine_documents import create_stuff_documents_chain\n",
    "from langchain_core.runnables.history import RunnableWithMessageHistory\n",
    "from langchain_community.chat_message_histories import ChatMessageHistory\n",
    "from langchain_core.chat_history import BaseChatMessageHistory\n",
    "from langchain_community.retrievers import BM25Retriever\n",
    "from langchain.retrievers import EnsembleRetriever\n"
   ]
  },
  {
   "cell_type": "code",
   "execution_count": 2,
   "metadata": {},
   "outputs": [],
   "source": [
    "tokenizer = tiktoken.get_encoding(\"cl100k_base\")\n",
    "\n",
    "def tiktoken_len(text):\n",
    "    tokens = tokenizer.encode(text)\n",
    "    return len(tokens)"
   ]
  },
  {
   "cell_type": "code",
   "execution_count": 3,
   "metadata": {},
   "outputs": [],
   "source": [
    "from langchain_community.document_loaders.csv_loader import CSVLoader\n",
    "\n",
    "loader = CSVLoader(file_path='../data/dur.csv')\n",
    "data = loader.load()"
   ]
  },
  {
   "cell_type": "code",
   "execution_count": 4,
   "metadata": {},
   "outputs": [],
   "source": [
    "text_splitter = RecursiveCharacterTextSplitter(chunk_size = 250, chunk_overlap = 100, length_function=tiktoken_len)\n",
    "texts = text_splitter.split_documents(data)"
   ]
  },
  {
   "cell_type": "code",
   "execution_count": 5,
   "metadata": {},
   "outputs": [
    {
     "name": "stderr",
     "output_type": "stream",
     "text": [
      "c:\\Users\\Admin\\anaconda3\\envs\\sba\\lib\\site-packages\\sentence_transformers\\cross_encoder\\CrossEncoder.py:11: TqdmExperimentalWarning: Using `tqdm.autonotebook.tqdm` in notebook mode. Use `tqdm.tqdm` instead to force console mode (e.g. in jupyter console)\n",
      "  from tqdm.autonotebook import tqdm, trange\n",
      "c:\\Users\\Admin\\anaconda3\\envs\\sba\\lib\\site-packages\\huggingface_hub\\file_download.py:1132: FutureWarning: `resume_download` is deprecated and will be removed in version 1.0.0. Downloads always resume when possible. If you want to force a new download, use `force_download=True`.\n",
      "  warnings.warn(\n",
      "c:\\Users\\Admin\\anaconda3\\envs\\sba\\lib\\site-packages\\torch\\_utils.py:776: UserWarning: TypedStorage is deprecated. It will be removed in the future and UntypedStorage will be the only storage class. This should only matter to you if you are using storages directly.  To access UntypedStorage directly, use tensor.untyped_storage() instead of tensor.storage()\n",
      "  return self.fget.__get__(instance, owner)()\n"
     ]
    }
   ],
   "source": [
    "model_name = \"jhgan/ko-sbert-nli\"\n",
    "model_kwargs = {'device': 'cuda'}\n",
    "encode_kwargs = {'normalize_embeddings': True}\n",
    "hf = HuggingFaceEmbeddings(\n",
    "    model_name=model_name,\n",
    "    model_kwargs=model_kwargs,\n",
    "    encode_kwargs=encode_kwargs\n",
    ")"
   ]
  },
  {
   "cell_type": "code",
   "execution_count": 6,
   "metadata": {},
   "outputs": [],
   "source": [
    "#save to disk\n",
    "emed_db = Chroma.from_documents(texts, hf,persist_directory=\"../db/dur_jhgan_250\")"
   ]
  },
  {
   "cell_type": "code",
   "execution_count": 7,
   "metadata": {},
   "outputs": [],
   "source": [
    "#벡터db의 데이터가 in-memory가 아니라 persistent storage인 disk에 저장되게 선언\n",
    "emed_db.persist()\n",
    "emed_db = None"
   ]
  },
  {
   "cell_type": "code",
   "execution_count": 8,
   "metadata": {},
   "outputs": [],
   "source": [
    "# load from disk\n",
    "emed_db = Chroma(persist_directory=\"../db/dur_jhgan_250\",embedding_function=hf)"
   ]
  },
  {
   "cell_type": "code",
   "execution_count": 17,
   "metadata": {},
   "outputs": [],
   "source": [
    "openai = ChatOpenAI(model = \"gpt-3.5-turbo\",temperature=0)\n",
    "\n",
    "vector_retriever = emed_db.as_retriever(search_type=\"similarity\", search_kwargs={'k':3})\n",
    "\n",
    "# Initialize the BM25 retriever\n",
    "bm25_retriever = BM25Retriever.from_documents(data)\n",
    "bm25_retriever.k =  3\n",
    "\n",
    "ensemble_retriever = EnsembleRetriever(retrievers=[bm25_retriever, vector_retriever],\n",
    "                                       weights=[0.7, 0.3])"
   ]
  },
  {
   "cell_type": "code",
   "execution_count": 18,
   "metadata": {},
   "outputs": [
    {
     "data": {
      "text/plain": [
       "[Document(page_content='상세정보: 연령 금기. 아래의 약은 특정 연령의 복용이 제한된다.\\n제품명: 타세놀\\n성분명: acetaminophen(encapsulated)\\n업체명: 부광약품(주)\\n특정 연령: 12세 미만\\n금기 사유: 소아 및 고령자(노인)는 최소 필요량을 복용하고 이상반응에 유의. 과도한 체온강하, 허탈, 사지냉각 등이 나타날 수 있음', metadata={'source': '../data/dur.csv', 'row': 3}),\n",
       " Document(page_content='상세정보: 임부 금기. 아래의 약은 임산부의 복용이 불가하다.\\n제품명: 콜드엔정\\n성분명: pseudoephedrine\\n업체명: (주)대웅제약\\n금기 등급: 2\\n금기 사유: 임부에 대한 안전성 미확립.', metadata={'source': '../data/dur.csv', 'row': 444287}),\n",
       " Document(page_content='제품명B: 삼아돔페리돈말레산염정\\n성분명A: itraconazole\\n성분명B: domperidone maleate (as domperidone)\\n업체명A: (주)티디에스팜\\n업체명B: 삼아제약(주)\\n금기 사유: QTc 연장 효과 증대로 심각한 위험(Torsade de Pointes, 심각한 심실성 부정맥 포함) 가능성 강력한 CYP억제제가 돔페리돈의 대사를 감소시켜, Domperidone의 영향(이상반응 포함) 증대 가능성, Itraconazole 투여 중 및 종료 후 2주 간 해당 성분 투여 금기', metadata={'row': 222055, 'source': '../data/dur.csv'}),\n",
       " Document(page_content='제품명B: 삼아돔페리돈말레산염정\\n성분명A: itraconazole\\n성분명B: domperidone maleate (as domperidone)\\n업체명A: (주)디에이치피코리아\\n업체명B: 삼아제약(주)\\n금기 사유: QTc 연장 효과 증대로 심각한 위험(Torsade de Pointes, 심각한 심실성 부정맥 포함) 가능성 강력한 CYP억제제가 돔페리돈의 대사를 감소시켜, Domperidone의 영향(이상반응 포함) 증대 가능성, Itraconazole 투여 중 및 종료 후 2주 간 해당 성분 투여 금기', metadata={'row': 222042, 'source': '../data/dur.csv'})]"
      ]
     },
     "execution_count": 18,
     "metadata": {},
     "output_type": "execute_result"
    }
   ],
   "source": [
    "ensemble_retriever.invoke(\"타세놀\")"
   ]
  },
  {
   "cell_type": "code",
   "execution_count": 19,
   "metadata": {},
   "outputs": [
    {
     "data": {
      "text/plain": [
       "[Document(page_content='상세정보: 연령 금기. 아래의 약은 특정 연령의 복용이 제한된다.\\n제품명: 타세놀\\n성분명: acetaminophen(encapsulated)\\n업체명: 부광약품(주)\\n특정 연령: 12세 미만\\n금기 사유: 소아 및 고령자(노인)는 최소 필요량을 복용하고 이상반응에 유의. 과도한 체온강하, 허탈, 사지냉각 등이 나타날 수 있음', metadata={'source': '../data/dur.csv', 'row': 3}),\n",
       " Document(page_content='상세정보: 연령 금기. 아래의 약은 특정 연령의 복용이 제한된다.\\n제품명: 타다프리정\\n성분명: tadalafil\\n업체명: 알보젠코리아(주)\\n특정 연령: 18세 미만\\n금기 사유: nan', metadata={'row': 3878, 'source': '../data/dur.csv'}),\n",
       " Document(page_content='상세정보: 임부 금기. 아래의 약은 임산부의 복용이 불가하다.\\n제품명: 콜드엔정\\n성분명: pseudoephedrine\\n업체명: (주)대웅제약\\n금기 등급: 2\\n금기 사유: 임부에 대한 안전성 미확립.', metadata={'source': '../data/dur.csv', 'row': 444287})]"
      ]
     },
     "execution_count": 19,
     "metadata": {},
     "output_type": "execute_result"
    }
   ],
   "source": [
    "query = \"타세놀 노인이 먹어도 돼?\"\n",
    "docs = ensemble_retriever.get_relevant_documents(query)\n",
    "docs"
   ]
  },
  {
   "cell_type": "code",
   "execution_count": 20,
   "metadata": {},
   "outputs": [],
   "source": [
    "def format_docs(docs):\n",
    "    return \"\\n\\n\".join([d.page_content for d in docs])\n",
    "\n",
    "contextualize_q_system_prompt = \"\"\"Given a chat history and the latest user question \\\n",
    "which might reference context in the chat history, formulate a standalone question \\\n",
    "which can be understood without the chat history. Do NOT answer the question, \\\n",
    "just reformulate it if needed and otherwise return it as is.\"\"\"\n",
    "\n",
    "contextualize_q_prompt = ChatPromptTemplate.from_messages(\n",
    "    [\n",
    "        (\"system\", contextualize_q_system_prompt),\n",
    "        MessagesPlaceholder(\"chat_history\"),\n",
    "        (\"human\",\"{input}\"),\n",
    "    ]\n",
    ")\n",
    "\n",
    "history_aware_retriever = create_history_aware_retriever(\n",
    "    openai, ensemble_retriever, contextualize_q_prompt\n",
    ")\n",
    "\n",
    "#답변 생성\n",
    "qa_system_prompt = \"\"\"You are an assistant for question-answering tasks. \\\n",
    "ONLY USE the following pieces of retrieved context to answer the question. \\\n",
    "If you don't know the answer, just say that you don't know. \\\n",
    "Use three sentences maximum and keep the answer concise.\\\n",
    "\n",
    "{context}\"\"\"\n",
    "\n",
    "qa_prompt = ChatPromptTemplate.from_messages(\n",
    "    [\n",
    "        (\"system\", qa_system_prompt),\n",
    "        MessagesPlaceholder(\"chat_history\"),\n",
    "        (\"human\", \"{input}\"),\n",
    "    ]\n",
    ")\n",
    "question_answer_chain = create_stuff_documents_chain(openai, qa_prompt)\n",
    "\n",
    "rag_chain = create_retrieval_chain(history_aware_retriever,question_answer_chain)\n",
    "\n",
    "# chat history 관리\n",
    "store = {}\n",
    "\n",
    "def get_session_history(session_id : str) -> BaseChatMessageHistory:\n",
    "    if session_id not in store:\n",
    "        store[session_id] = ChatMessageHistory()\n",
    "    return store[session_id]\n",
    "\n",
    "conversational_rag_chain = RunnableWithMessageHistory(\n",
    "    rag_chain,\n",
    "    get_session_history,\n",
    "    input_messages_key= \"input\",\n",
    "    history_messages_key= \"chat_history\",\n",
    "    output_messages_key= \"answer\",\n",
    ")"
   ]
  },
  {
   "cell_type": "code",
   "execution_count": 21,
   "metadata": {},
   "outputs": [
    {
     "data": {
      "text/plain": [
       "{'input': '타세놀 노인이 먹어도 돼?',\n",
       " 'chat_history': [],\n",
       " 'context': [Document(page_content='상세정보: 연령 금기. 아래의 약은 특정 연령의 복용이 제한된다.\\n제품명: 타세놀\\n성분명: acetaminophen(encapsulated)\\n업체명: 부광약품(주)\\n특정 연령: 12세 미만\\n금기 사유: 소아 및 고령자(노인)는 최소 필요량을 복용하고 이상반응에 유의. 과도한 체온강하, 허탈, 사지냉각 등이 나타날 수 있음', metadata={'source': '../data/dur.csv', 'row': 3}),\n",
       "  Document(page_content='상세정보: 연령 금기. 아래의 약은 특정 연령의 복용이 제한된다.\\n제품명: 타다프리정\\n성분명: tadalafil\\n업체명: 알보젠코리아(주)\\n특정 연령: 18세 미만\\n금기 사유: nan', metadata={'row': 3878, 'source': '../data/dur.csv'}),\n",
       "  Document(page_content='상세정보: 임부 금기. 아래의 약은 임산부의 복용이 불가하다.\\n제품명: 콜드엔정\\n성분명: pseudoephedrine\\n업체명: (주)대웅제약\\n금기 등급: 2\\n금기 사유: 임부에 대한 안전성 미확립.', metadata={'source': '../data/dur.csv', 'row': 444287})],\n",
       " 'answer': '노인은 타세놀을 최소 필요량만 복용하고 이상반응에 유의해야 합니다. 과도한 체온강하, 허탈, 사지냉각 등의 이상반응이 나타날 수 있으니 주의가 필요합니다. 타세놀은 12세 미만의 소아에게 금기되어 있습니다.'}"
      ]
     },
     "execution_count": 21,
     "metadata": {},
     "output_type": "execute_result"
    }
   ],
   "source": [
    "id = \"0\"\n",
    "query1 = \"타세놀 노인이 먹어도 돼?\"\n",
    "conversational_rag_chain.invoke(\n",
    "    {\"input\": query1},\n",
    "    config={\n",
    "        \"configurable\": {\"session_id\":id}\n",
    "    },\n",
    ")#[\"answer\"]"
   ]
  },
  {
   "cell_type": "code",
   "execution_count": null,
   "metadata": {},
   "outputs": [],
   "source": []
  }
 ],
 "metadata": {
  "kernelspec": {
   "display_name": "sba",
   "language": "python",
   "name": "python3"
  },
  "language_info": {
   "codemirror_mode": {
    "name": "ipython",
    "version": 3
   },
   "file_extension": ".py",
   "mimetype": "text/x-python",
   "name": "python",
   "nbconvert_exporter": "python",
   "pygments_lexer": "ipython3",
   "version": "3.10.9"
  }
 },
 "nbformat": 4,
 "nbformat_minor": 2
}
