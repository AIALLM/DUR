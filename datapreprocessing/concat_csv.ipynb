{
 "cells": [
  {
   "cell_type": "code",
   "execution_count": 1,
   "metadata": {},
   "outputs": [],
   "source": [
    "import pandas as pd"
   ]
  },
  {
   "cell_type": "code",
   "execution_count": 2,
   "metadata": {},
   "outputs": [
    {
     "data": {
      "text/html": [
       "<div>\n",
       "<style scoped>\n",
       "    .dataframe tbody tr th:only-of-type {\n",
       "        vertical-align: middle;\n",
       "    }\n",
       "\n",
       "    .dataframe tbody tr th {\n",
       "        vertical-align: top;\n",
       "    }\n",
       "\n",
       "    .dataframe thead th {\n",
       "        text-align: right;\n",
       "    }\n",
       "</style>\n",
       "<table border=\"1\" class=\"dataframe\">\n",
       "  <thead>\n",
       "    <tr style=\"text-align: right;\">\n",
       "      <th></th>\n",
       "      <th>상세정보</th>\n",
       "    </tr>\n",
       "  </thead>\n",
       "  <tbody>\n",
       "    <tr>\n",
       "      <th>0</th>\n",
       "      <td>연령 금기. 아래의 약은 특정 연령의 복용이 제한된다.\\n제품명: 환인아캄프로세이트...</td>\n",
       "    </tr>\n",
       "    <tr>\n",
       "      <th>1</th>\n",
       "      <td>연령 금기. 아래의 약은 특정 연령의 복용이 제한된다.\\n제품명: 글루코바이정\\n성...</td>\n",
       "    </tr>\n",
       "    <tr>\n",
       "      <th>2</th>\n",
       "      <td>연령 금기. 아래의 약은 특정 연령의 복용이 제한된다.\\n제품명: 글루코바이정\\n성...</td>\n",
       "    </tr>\n",
       "    <tr>\n",
       "      <th>3</th>\n",
       "      <td>연령 금기. 아래의 약은 특정 연령의 복용이 제한된다.\\n제품명: 타세놀\\n성분명:...</td>\n",
       "    </tr>\n",
       "    <tr>\n",
       "      <th>4</th>\n",
       "      <td>연령 금기. 아래의 약은 특정 연령의 복용이 제한된다.\\n제품명: 아세트엠\\n성분명...</td>\n",
       "    </tr>\n",
       "  </tbody>\n",
       "</table>\n",
       "</div>"
      ],
      "text/plain": [
       "                                                상세정보\n",
       "0  연령 금기. 아래의 약은 특정 연령의 복용이 제한된다.\\n제품명: 환인아캄프로세이트...\n",
       "1  연령 금기. 아래의 약은 특정 연령의 복용이 제한된다.\\n제품명: 글루코바이정\\n성...\n",
       "2  연령 금기. 아래의 약은 특정 연령의 복용이 제한된다.\\n제품명: 글루코바이정\\n성...\n",
       "3  연령 금기. 아래의 약은 특정 연령의 복용이 제한된다.\\n제품명: 타세놀\\n성분명:...\n",
       "4  연령 금기. 아래의 약은 특정 연령의 복용이 제한된다.\\n제품명: 아세트엠\\n성분명..."
      ]
     },
     "execution_count": 2,
     "metadata": {},
     "output_type": "execute_result"
    }
   ],
   "source": [
    "age = pd.read_csv(\"../data/dur_age.csv\")\n",
    "comb = pd.read_csv(\"../data/dur_comb.csv\")\n",
    "preg = pd.read_csv(\"../data/dur_preg.csv\")\n",
    "\n",
    "age.head(5)"
   ]
  },
  {
   "cell_type": "code",
   "execution_count": 3,
   "metadata": {},
   "outputs": [
    {
     "data": {
      "text/html": [
       "<div>\n",
       "<style scoped>\n",
       "    .dataframe tbody tr th:only-of-type {\n",
       "        vertical-align: middle;\n",
       "    }\n",
       "\n",
       "    .dataframe tbody tr th {\n",
       "        vertical-align: top;\n",
       "    }\n",
       "\n",
       "    .dataframe thead th {\n",
       "        text-align: right;\n",
       "    }\n",
       "</style>\n",
       "<table border=\"1\" class=\"dataframe\">\n",
       "  <thead>\n",
       "    <tr style=\"text-align: right;\">\n",
       "      <th></th>\n",
       "      <th>상세정보</th>\n",
       "    </tr>\n",
       "  </thead>\n",
       "  <tbody>\n",
       "    <tr>\n",
       "      <th>0</th>\n",
       "      <td>연령 금기. 아래의 약은 특정 연령의 복용이 제한된다.\\n제품명: 환인아캄프로세이트...</td>\n",
       "    </tr>\n",
       "    <tr>\n",
       "      <th>1</th>\n",
       "      <td>연령 금기. 아래의 약은 특정 연령의 복용이 제한된다.\\n제품명: 글루코바이정\\n성...</td>\n",
       "    </tr>\n",
       "    <tr>\n",
       "      <th>2</th>\n",
       "      <td>연령 금기. 아래의 약은 특정 연령의 복용이 제한된다.\\n제품명: 글루코바이정\\n성...</td>\n",
       "    </tr>\n",
       "    <tr>\n",
       "      <th>3</th>\n",
       "      <td>연령 금기. 아래의 약은 특정 연령의 복용이 제한된다.\\n제품명: 타세놀\\n성분명:...</td>\n",
       "    </tr>\n",
       "    <tr>\n",
       "      <th>4</th>\n",
       "      <td>연령 금기. 아래의 약은 특정 연령의 복용이 제한된다.\\n제품명: 아세트엠\\n성분명...</td>\n",
       "    </tr>\n",
       "  </tbody>\n",
       "</table>\n",
       "</div>"
      ],
      "text/plain": [
       "                                                상세정보\n",
       "0  연령 금기. 아래의 약은 특정 연령의 복용이 제한된다.\\n제품명: 환인아캄프로세이트...\n",
       "1  연령 금기. 아래의 약은 특정 연령의 복용이 제한된다.\\n제품명: 글루코바이정\\n성...\n",
       "2  연령 금기. 아래의 약은 특정 연령의 복용이 제한된다.\\n제품명: 글루코바이정\\n성...\n",
       "3  연령 금기. 아래의 약은 특정 연령의 복용이 제한된다.\\n제품명: 타세놀\\n성분명:...\n",
       "4  연령 금기. 아래의 약은 특정 연령의 복용이 제한된다.\\n제품명: 아세트엠\\n성분명..."
      ]
     },
     "execution_count": 3,
     "metadata": {},
     "output_type": "execute_result"
    }
   ],
   "source": [
    "dur = pd.concat([age, comb])\n",
    "dur = pd.concat([dur,preg])\n",
    "dur.head(5)"
   ]
  },
  {
   "cell_type": "code",
   "execution_count": 5,
   "metadata": {},
   "outputs": [
    {
     "name": "stdout",
     "output_type": "stream",
     "text": [
      "hell yeah!\n"
     ]
    }
   ],
   "source": [
    "if len(dur) == len(preg) + len(age) + len(comb):\n",
    "    print(\"hell yeah!\")"
   ]
  },
  {
   "cell_type": "code",
   "execution_count": 7,
   "metadata": {},
   "outputs": [],
   "source": [
    "dur.to_csv(\"../data/dur.csv\")"
   ]
  },
  {
   "cell_type": "code",
   "execution_count": null,
   "metadata": {},
   "outputs": [],
   "source": []
  }
 ],
 "metadata": {
  "kernelspec": {
   "display_name": "sba",
   "language": "python",
   "name": "python3"
  },
  "language_info": {
   "codemirror_mode": {
    "name": "ipython",
    "version": 3
   },
   "file_extension": ".py",
   "mimetype": "text/x-python",
   "name": "python",
   "nbconvert_exporter": "python",
   "pygments_lexer": "ipython3",
   "version": "3.10.9"
  }
 },
 "nbformat": 4,
 "nbformat_minor": 2
}
